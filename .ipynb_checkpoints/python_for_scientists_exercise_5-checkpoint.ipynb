{
 "cells": [
  {
   "cell_type": "markdown",
   "metadata": {},
   "source": [
    "# Exercises - lecture 5"
   ]
  },
  {
   "cell_type": "code",
   "execution_count": 1,
   "metadata": {
    "ExecuteTime": {
     "end_time": "2021-12-20T20:16:43.768487Z",
     "start_time": "2021-12-20T20:16:43.160696Z"
    }
   },
   "outputs": [],
   "source": [
    "import numpy as np\n",
    "import scipy as sp\n",
    "import matplotlib.pyplot as plt\n",
    "import scipy.ndimage\n",
    "from vega_datasets import data\n",
    "import matplotlib\n",
    "import pandas as pd"
   ]
  },
  {
   "cell_type": "code",
   "execution_count": 2,
   "metadata": {
    "ExecuteTime": {
     "end_time": "2021-12-20T20:16:43.783828Z",
     "start_time": "2021-12-20T20:16:43.770514Z"
    }
   },
   "outputs": [],
   "source": [
    "figsizesmall = (8,6)\n",
    "figuresize = (10,6)\n",
    "figsizelarge = (15,10)"
   ]
  },
  {
   "cell_type": "markdown",
   "metadata": {},
   "source": [
    "## GIT"
   ]
  },
  {
   "cell_type": "markdown",
   "metadata": {},
   "source": [
    "### Create an account on Github"
   ]
  },
  {
   "cell_type": "markdown",
   "metadata": {},
   "source": [
    "### Create a project and add this notebook and your solutions file to it"
   ]
  },
  {
   "cell_type": "markdown",
   "metadata": {},
   "source": [
    "### As you solve the exercises, use commits whenever you have solved part of an exercise (or even more often if you want to)"
   ]
  },
  {
   "cell_type": "markdown",
   "metadata": {},
   "source": [
    "## File creation"
   ]
  },
  {
   "cell_type": "markdown",
   "metadata": {},
   "source": [
    "### Create a Folder out of Python \"file_creation_tryout\""
   ]
  },
  {
   "cell_type": "code",
   "execution_count": 3,
   "metadata": {
    "ExecuteTime": {
     "end_time": "2021-12-20T20:16:43.862291Z",
     "start_time": "2021-12-20T20:16:43.786854Z"
    }
   },
   "outputs": [],
   "source": [
    "import numpy as np\n",
    "import matplotlib.pyplot as plt\n",
    "import h5py\n",
    "import os"
   ]
  },
  {
   "cell_type": "code",
   "execution_count": 4,
   "metadata": {
    "ExecuteTime": {
     "end_time": "2021-12-20T20:16:43.878238Z",
     "start_time": "2021-12-20T20:16:43.863973Z"
    }
   },
   "outputs": [],
   "source": [
    "path = 'file_creation_tryout'"
   ]
  },
  {
   "cell_type": "code",
   "execution_count": 5,
   "metadata": {
    "ExecuteTime": {
     "end_time": "2021-12-20T20:16:43.894760Z",
     "start_time": "2021-12-20T20:16:43.879930Z"
    }
   },
   "outputs": [],
   "source": [
    "if not os.path.exists(path):\n",
    "    os.makedirs(path)"
   ]
  },
  {
   "cell_type": "markdown",
   "metadata": {},
   "source": [
    "### Create a python script (.py) that prints \"Hello World\""
   ]
  },
  {
   "cell_type": "code",
   "execution_count": null,
   "metadata": {},
   "outputs": [],
   "source": []
  },
  {
   "cell_type": "markdown",
   "metadata": {},
   "source": [
    "### Bonus: Call your Hello world python script from Jupyter notebook\n",
    "There are three ways:\n",
    "1) The one shown in the lecture that creates a bash script that then calls the Python script only works in Linux\n",
    "\n",
    "2) Using the os library you can do it platform independent: os.system(\"python \" + FILENAME_OF_YOUR_SCRIPT)\n",
    "\n",
    "3) Using the subprocess library you can also do it platform independent: subprocess.call(\"python \" + FILENAME_OF_YOUR_SCRIPT, shell=True)\n",
    "\n",
    "If you are using Windows and run Jupyter from Anaconda prompt you will see the output \"Hello World\" in the Anaconda prompt"
   ]
  },
  {
   "cell_type": "code",
   "execution_count": 6,
   "metadata": {
    "ExecuteTime": {
     "end_time": "2021-12-20T20:16:43.971742Z",
     "start_time": "2021-12-20T20:16:43.895760Z"
    }
   },
   "outputs": [
    {
     "data": {
      "text/plain": [
       "0"
      ]
     },
     "execution_count": 6,
     "metadata": {},
     "output_type": "execute_result"
    }
   ],
   "source": [
    "os.system(\"python \" + 'file_creation_tryout/python_script.py')"
   ]
  },
  {
   "cell_type": "code",
   "execution_count": 7,
   "metadata": {
    "ExecuteTime": {
     "end_time": "2021-12-20T20:16:43.987698Z",
     "start_time": "2021-12-20T20:16:43.972739Z"
    }
   },
   "outputs": [],
   "source": [
    "import subprocess"
   ]
  },
  {
   "cell_type": "code",
   "execution_count": 8,
   "metadata": {
    "ExecuteTime": {
     "end_time": "2021-12-20T20:16:44.051568Z",
     "start_time": "2021-12-20T20:16:43.989694Z"
    }
   },
   "outputs": [
    {
     "data": {
      "text/plain": [
       "0"
      ]
     },
     "execution_count": 8,
     "metadata": {},
     "output_type": "execute_result"
    }
   ],
   "source": [
    "subprocess.call(\"python file_creation_tryout/python_script.py\")"
   ]
  },
  {
   "cell_type": "markdown",
   "metadata": {},
   "source": [
    "## Generators"
   ]
  },
  {
   "cell_type": "markdown",
   "metadata": {},
   "source": [
    "### Create a generator function that yields a counter that counts how often the generator function has been called"
   ]
  },
  {
   "cell_type": "code",
   "execution_count": 9,
   "metadata": {
    "ExecuteTime": {
     "end_time": "2021-12-20T20:16:44.067316Z",
     "start_time": "2021-12-20T20:16:44.053523Z"
    }
   },
   "outputs": [],
   "source": [
    "def counter():\n",
    "    i = 0\n",
    "    while True:\n",
    "        yield i\n",
    "        i+= 1"
   ]
  },
  {
   "cell_type": "code",
   "execution_count": 10,
   "metadata": {
    "ExecuteTime": {
     "end_time": "2021-12-20T20:16:44.083275Z",
     "start_time": "2021-12-20T20:16:44.069273Z"
    }
   },
   "outputs": [
    {
     "data": {
      "text/plain": [
       "<generator object counter at 0x0000023F02A528C8>"
      ]
     },
     "execution_count": 10,
     "metadata": {},
     "output_type": "execute_result"
    }
   ],
   "source": [
    "c = counter()\n",
    "c"
   ]
  },
  {
   "cell_type": "code",
   "execution_count": 11,
   "metadata": {
    "ExecuteTime": {
     "end_time": "2021-12-20T20:16:44.098477Z",
     "start_time": "2021-12-20T20:16:44.084234Z"
    }
   },
   "outputs": [
    {
     "data": {
      "text/plain": [
       "0"
      ]
     },
     "execution_count": 11,
     "metadata": {},
     "output_type": "execute_result"
    }
   ],
   "source": [
    "next(c)"
   ]
  },
  {
   "cell_type": "markdown",
   "metadata": {},
   "source": [
    "### Bonus: Create a generator function that alternates between yielding a random number and yielding 0. (A Generator function can have multiple yield statements)"
   ]
  },
  {
   "cell_type": "code",
   "execution_count": 12,
   "metadata": {
    "ExecuteTime": {
     "end_time": "2021-12-20T20:16:44.114485Z",
     "start_time": "2021-12-20T20:16:44.100474Z"
    }
   },
   "outputs": [],
   "source": [
    "import random\n",
    "\n",
    "def counter_switching():\n",
    "    i = 0\n",
    "    while True:\n",
    "        if i % 2 == 0:\n",
    "            yield 0 \n",
    "            i+= 1\n",
    "        else:\n",
    "            yield random.uniform(-10, 10)\n",
    "            i+= 1"
   ]
  },
  {
   "cell_type": "code",
   "execution_count": 13,
   "metadata": {
    "ExecuteTime": {
     "end_time": "2021-12-20T20:16:44.130030Z",
     "start_time": "2021-12-20T20:16:44.117428Z"
    }
   },
   "outputs": [],
   "source": [
    "d = counter_switching()"
   ]
  },
  {
   "cell_type": "code",
   "execution_count": 14,
   "metadata": {
    "ExecuteTime": {
     "end_time": "2021-12-20T20:16:44.145292Z",
     "start_time": "2021-12-20T20:16:44.131029Z"
    }
   },
   "outputs": [
    {
     "data": {
      "text/plain": [
       "0"
      ]
     },
     "execution_count": 14,
     "metadata": {},
     "output_type": "execute_result"
    }
   ],
   "source": [
    "next(d)"
   ]
  },
  {
   "cell_type": "markdown",
   "metadata": {},
   "source": [
    "## Parallelization\n",
    "Ideally, try to parallelize one of your own production python scripts and measure how much faster it gets by parallelizing.\n",
    "If you do not have any script that takes long do the following exercises:"
   ]
  },
  {
   "cell_type": "code",
   "execution_count": 15,
   "metadata": {
    "ExecuteTime": {
     "end_time": "2021-12-20T20:16:44.176559Z",
     "start_time": "2021-12-20T20:16:44.146987Z"
    }
   },
   "outputs": [],
   "source": [
    "def Projection_Deby_all_angle_numpy(incidence_angle,mer,d): # most recent code. Use this.\n",
    "\n",
    "\n",
    "    a = incidence_angle\n",
    "    r = 300.\n",
    "    MosaicSpread = 0.001\n",
    "    int_ref = 0.1\n",
    "    QGraphite = 0.002\n",
    "    MuGraphite = 0.01\n",
    "    DSD = 3203.\n",
    "    a_bragg = 0.1858\n",
    "\n",
    "    sag_angle = np.arccos((np.cos(2 * a_bragg) - np.cos(2 * a_bragg) * np.cos(a - mer)) / (np.sin(2 * a_bragg) * np.sin(a - mer + 0.0000000000001))) - np.pi/2 \n",
    "    distance_intr = np.sqrt(  np.square(1/np.sin(a - a_bragg)) * (-np.square(DSD) + 2*np.square(r + d) + np.square(DSD) * np.cos(2*(a - a_bragg)) - (2 * ((r + d) * np.cos(a - a_bragg) + DSD * np.sin(a - a_bragg)) * ((r + d) * np.cos(a - a_bragg) * np.cos(2*(2*a_bragg)) - np.sin(a - a_bragg) * (DSD + (r + d) * np.cos(sag_angle) * np.sin(2 * (2*a_bragg))))) / np.square( np.cos(a - a_bragg) * np.cos(2*a_bragg) - np.cos(sag_angle) * np.sin(a - a_bragg) * np.sin(2*a_bragg))))  /   np.sqrt(2)\n",
    "    SigmaGraphite = MosaicSpread/2. * (QGraphite/np.sin(a_bragg))/(np.pi * (np.square(a_bragg - a - a_bragg) + np.square(MosaicSpread/2.)))\n",
    "    MuEffCrystal = MuGraphite*(1./np.sin(a_bragg - a) + 1./np.sin(a_bragg - a)) + 2. * SigmaGraphite\n",
    "    I = np.exp(-MuEffCrystal * d) \n",
    "    Lorentz_int = 1 / ( 2 * np.pi) * (MosaicSpread / (np.sqrt(np.square(mer) + np.square(sag_angle) + np.square(MosaicSpread)) * (np.square(mer) + np.square(sag_angle) + np.square(MosaicSpread))))\n",
    "\n",
    "    '''Combined Intensity'''\n",
    "    final_intensity = Lorentz_int * I * int_ref\n",
    "    #hist_array = np.histogram(distance_intr,10000)\n",
    "\n",
    "    return final_intensity#,hist_array"
   ]
  },
  {
   "cell_type": "code",
   "execution_count": 16,
   "metadata": {
    "ExecuteTime": {
     "end_time": "2021-12-20T20:16:44.303208Z",
     "start_time": "2021-12-20T20:16:44.178237Z"
    }
   },
   "outputs": [],
   "source": [
    "Number_angle_steps = 500\n",
    "Number_angle2_steps = 500\n",
    "thicknes_steps = 100\n",
    "\n",
    "incidence_angle = np.linspace(-1.14E-3,1.13E-3,Number_angle_steps)\n",
    "mer = np.linspace(-6.3E-3,6.3E-3,Number_angle2_steps)\n",
    "d = np.linspace(0.0,0.02,thicknes_steps)\n",
    "incidence_angle_meshgrid,mer_meshgrid,d_meshgrid = np.meshgrid(incidence_angle,mer,d)"
   ]
  },
  {
   "cell_type": "code",
   "execution_count": 17,
   "metadata": {
    "ExecuteTime": {
     "end_time": "2021-12-20T20:16:52.034149Z",
     "start_time": "2021-12-20T20:16:44.304899Z"
    }
   },
   "outputs": [],
   "source": [
    "result = Projection_Deby_all_angle_numpy(incidence_angle_meshgrid,mer_meshgrid,d_meshgrid)"
   ]
  },
  {
   "cell_type": "code",
   "execution_count": 19,
   "metadata": {
    "ExecuteTime": {
     "end_time": "2021-12-20T20:17:07.440175Z",
     "start_time": "2021-12-20T20:17:07.429205Z"
    }
   },
   "outputs": [],
   "source": [
    "#plt.plot(result[1][1][:-1],result[1][0], label='response')\n",
    "#plt.xlabel('distance / mm')\n",
    "#plt.ylabel('intensity')\n",
    "#plt.legend()"
   ]
  },
  {
   "cell_type": "code",
   "execution_count": 20,
   "metadata": {
    "ExecuteTime": {
     "end_time": "2021-12-20T20:17:09.544838Z",
     "start_time": "2021-12-20T20:17:09.219325Z"
    }
   },
   "outputs": [],
   "source": [
    "from dask.distributed import Client, progress\n",
    "import dask.array as da"
   ]
  },
  {
   "cell_type": "code",
   "execution_count": 26,
   "metadata": {
    "ExecuteTime": {
     "end_time": "2021-12-20T20:17:47.749393Z",
     "start_time": "2021-12-20T20:17:47.684887Z"
    }
   },
   "outputs": [
    {
     "data": {
      "text/html": [
       "<table style=\"border: 2px solid white;\">\n",
       "<tr>\n",
       "<td style=\"vertical-align: top; border: 0px solid white\">\n",
       "<h3 style=\"text-align: left;\">Client</h3>\n",
       "<ul style=\"text-align: left; list-style: none; margin: 0; padding: 0;\">\n",
       "  <li><b>Scheduler: </b>inproc://141.23.178.129/18048/48</li>\n",
       "  <li><b>Dashboard: </b><a href='http://141.23.178.129:57191/status' target='_blank'>http://141.23.178.129:57191/status</a>\n",
       "</ul>\n",
       "</td>\n",
       "<td style=\"vertical-align: top; border: 0px solid white\">\n",
       "<h3 style=\"text-align: left;\">Cluster</h3>\n",
       "<ul style=\"text-align: left; list-style:none; margin: 0; padding: 0;\">\n",
       "  <li><b>Workers: </b>1</li>\n",
       "  <li><b>Cores: </b>1</li>\n",
       "  <li><b>Memory: </b>14.00 GB</li>\n",
       "</ul>\n",
       "</td>\n",
       "</tr>\n",
       "</table>"
      ],
      "text/plain": [
       "<Client: 'inproc://141.23.178.129/18048/48' processes=1 threads=1, memory=14.00 GB>"
      ]
     },
     "execution_count": 26,
     "metadata": {},
     "output_type": "execute_result"
    }
   ],
   "source": [
    "client = Client(threads_per_worker=1, processes=False, \n",
    "                n_workers=1, memory_limit='14GB')\n",
    "client"
   ]
  },
  {
   "cell_type": "code",
   "execution_count": 27,
   "metadata": {
    "ExecuteTime": {
     "end_time": "2021-12-20T20:17:50.722871Z",
     "start_time": "2021-12-20T20:17:49.920856Z"
    }
   },
   "outputs": [
    {
     "data": {
      "text/html": [
       "<table>\n",
       "<tr>\n",
       "<td>\n",
       "<table>\n",
       "  <thead>\n",
       "    <tr><td> </td><th> Array </th><th> Chunk </th></tr>\n",
       "  </thead>\n",
       "  <tbody>\n",
       "    <tr><th> Bytes </th><td> 200.00 MB </td> <td> 200.00 kB </td></tr>\n",
       "    <tr><th> Shape </th><td> (500, 500, 100) </td> <td> (50, 50, 10) </td></tr>\n",
       "    <tr><th> Count </th><td> 1001 Tasks </td><td> 1000 Chunks </td></tr>\n",
       "    <tr><th> Type </th><td> float64 </td><td> numpy.ndarray </td></tr>\n",
       "  </tbody>\n",
       "</table>\n",
       "</td>\n",
       "<td>\n",
       "<svg width=\"172\" height=\"240\" style=\"stroke:rgb(0,0,0);stroke-width:1\" >\n",
       "\n",
       "  <!-- Horizontal lines -->\n",
       "  <line x1=\"10\" y1=\"0\" x2=\"80\" y2=\"70\" style=\"stroke-width:2\" />\n",
       "  <line x1=\"10\" y1=\"12\" x2=\"80\" y2=\"82\" />\n",
       "  <line x1=\"10\" y1=\"24\" x2=\"80\" y2=\"94\" />\n",
       "  <line x1=\"10\" y1=\"36\" x2=\"80\" y2=\"106\" />\n",
       "  <line x1=\"10\" y1=\"48\" x2=\"80\" y2=\"118\" />\n",
       "  <line x1=\"10\" y1=\"60\" x2=\"80\" y2=\"130\" />\n",
       "  <line x1=\"10\" y1=\"72\" x2=\"80\" y2=\"142\" />\n",
       "  <line x1=\"10\" y1=\"84\" x2=\"80\" y2=\"154\" />\n",
       "  <line x1=\"10\" y1=\"96\" x2=\"80\" y2=\"166\" />\n",
       "  <line x1=\"10\" y1=\"108\" x2=\"80\" y2=\"178\" />\n",
       "  <line x1=\"10\" y1=\"120\" x2=\"80\" y2=\"190\" style=\"stroke-width:2\" />\n",
       "\n",
       "  <!-- Vertical lines -->\n",
       "  <line x1=\"10\" y1=\"0\" x2=\"10\" y2=\"120\" style=\"stroke-width:2\" />\n",
       "  <line x1=\"17\" y1=\"7\" x2=\"17\" y2=\"127\" />\n",
       "  <line x1=\"24\" y1=\"14\" x2=\"24\" y2=\"134\" />\n",
       "  <line x1=\"31\" y1=\"21\" x2=\"31\" y2=\"141\" />\n",
       "  <line x1=\"38\" y1=\"28\" x2=\"38\" y2=\"148\" />\n",
       "  <line x1=\"45\" y1=\"35\" x2=\"45\" y2=\"155\" />\n",
       "  <line x1=\"52\" y1=\"42\" x2=\"52\" y2=\"162\" />\n",
       "  <line x1=\"59\" y1=\"49\" x2=\"59\" y2=\"169\" />\n",
       "  <line x1=\"66\" y1=\"56\" x2=\"66\" y2=\"176\" />\n",
       "  <line x1=\"73\" y1=\"63\" x2=\"73\" y2=\"183\" />\n",
       "  <line x1=\"80\" y1=\"70\" x2=\"80\" y2=\"190\" style=\"stroke-width:2\" />\n",
       "\n",
       "  <!-- Colored Rectangle -->\n",
       "  <polygon points=\"10.000000,0.000000 80.588235,70.588235 80.588235,190.588235 10.000000,120.000000\" style=\"fill:#ECB172A0;stroke-width:0\"/>\n",
       "\n",
       "  <!-- Horizontal lines -->\n",
       "  <line x1=\"10\" y1=\"0\" x2=\"52\" y2=\"0\" style=\"stroke-width:2\" />\n",
       "  <line x1=\"17\" y1=\"7\" x2=\"59\" y2=\"7\" />\n",
       "  <line x1=\"24\" y1=\"14\" x2=\"66\" y2=\"14\" />\n",
       "  <line x1=\"31\" y1=\"21\" x2=\"73\" y2=\"21\" />\n",
       "  <line x1=\"38\" y1=\"28\" x2=\"80\" y2=\"28\" />\n",
       "  <line x1=\"45\" y1=\"35\" x2=\"87\" y2=\"35\" />\n",
       "  <line x1=\"52\" y1=\"42\" x2=\"94\" y2=\"42\" />\n",
       "  <line x1=\"59\" y1=\"49\" x2=\"101\" y2=\"49\" />\n",
       "  <line x1=\"66\" y1=\"56\" x2=\"108\" y2=\"56\" />\n",
       "  <line x1=\"73\" y1=\"63\" x2=\"115\" y2=\"63\" />\n",
       "  <line x1=\"80\" y1=\"70\" x2=\"122\" y2=\"70\" style=\"stroke-width:2\" />\n",
       "\n",
       "  <!-- Vertical lines -->\n",
       "  <line x1=\"10\" y1=\"0\" x2=\"80\" y2=\"70\" style=\"stroke-width:2\" />\n",
       "  <line x1=\"14\" y1=\"0\" x2=\"84\" y2=\"70\" />\n",
       "  <line x1=\"18\" y1=\"0\" x2=\"88\" y2=\"70\" />\n",
       "  <line x1=\"22\" y1=\"0\" x2=\"93\" y2=\"70\" />\n",
       "  <line x1=\"26\" y1=\"0\" x2=\"97\" y2=\"70\" />\n",
       "  <line x1=\"31\" y1=\"0\" x2=\"101\" y2=\"70\" />\n",
       "  <line x1=\"35\" y1=\"0\" x2=\"105\" y2=\"70\" />\n",
       "  <line x1=\"39\" y1=\"0\" x2=\"109\" y2=\"70\" />\n",
       "  <line x1=\"43\" y1=\"0\" x2=\"114\" y2=\"70\" />\n",
       "  <line x1=\"47\" y1=\"0\" x2=\"118\" y2=\"70\" />\n",
       "  <line x1=\"52\" y1=\"0\" x2=\"122\" y2=\"70\" style=\"stroke-width:2\" />\n",
       "\n",
       "  <!-- Colored Rectangle -->\n",
       "  <polygon points=\"10.000000,0.000000 52.009890,0.000000 122.598126,70.588235 80.588235,70.588235\" style=\"fill:#ECB172A0;stroke-width:0\"/>\n",
       "\n",
       "  <!-- Horizontal lines -->\n",
       "  <line x1=\"80\" y1=\"70\" x2=\"122\" y2=\"70\" style=\"stroke-width:2\" />\n",
       "  <line x1=\"80\" y1=\"82\" x2=\"122\" y2=\"82\" />\n",
       "  <line x1=\"80\" y1=\"94\" x2=\"122\" y2=\"94\" />\n",
       "  <line x1=\"80\" y1=\"106\" x2=\"122\" y2=\"106\" />\n",
       "  <line x1=\"80\" y1=\"118\" x2=\"122\" y2=\"118\" />\n",
       "  <line x1=\"80\" y1=\"130\" x2=\"122\" y2=\"130\" />\n",
       "  <line x1=\"80\" y1=\"142\" x2=\"122\" y2=\"142\" />\n",
       "  <line x1=\"80\" y1=\"154\" x2=\"122\" y2=\"154\" />\n",
       "  <line x1=\"80\" y1=\"166\" x2=\"122\" y2=\"166\" />\n",
       "  <line x1=\"80\" y1=\"178\" x2=\"122\" y2=\"178\" />\n",
       "  <line x1=\"80\" y1=\"190\" x2=\"122\" y2=\"190\" style=\"stroke-width:2\" />\n",
       "\n",
       "  <!-- Vertical lines -->\n",
       "  <line x1=\"80\" y1=\"70\" x2=\"80\" y2=\"190\" style=\"stroke-width:2\" />\n",
       "  <line x1=\"84\" y1=\"70\" x2=\"84\" y2=\"190\" />\n",
       "  <line x1=\"88\" y1=\"70\" x2=\"88\" y2=\"190\" />\n",
       "  <line x1=\"93\" y1=\"70\" x2=\"93\" y2=\"190\" />\n",
       "  <line x1=\"97\" y1=\"70\" x2=\"97\" y2=\"190\" />\n",
       "  <line x1=\"101\" y1=\"70\" x2=\"101\" y2=\"190\" />\n",
       "  <line x1=\"105\" y1=\"70\" x2=\"105\" y2=\"190\" />\n",
       "  <line x1=\"109\" y1=\"70\" x2=\"109\" y2=\"190\" />\n",
       "  <line x1=\"114\" y1=\"70\" x2=\"114\" y2=\"190\" />\n",
       "  <line x1=\"118\" y1=\"70\" x2=\"118\" y2=\"190\" />\n",
       "  <line x1=\"122\" y1=\"70\" x2=\"122\" y2=\"190\" style=\"stroke-width:2\" />\n",
       "\n",
       "  <!-- Colored Rectangle -->\n",
       "  <polygon points=\"80.588235,70.588235 122.598126,70.588235 122.598126,190.588235 80.588235,190.588235\" style=\"fill:#ECB172A0;stroke-width:0\"/>\n",
       "\n",
       "  <!-- Text -->\n",
       "  <text x=\"101.593180\" y=\"210.588235\" font-size=\"1.0rem\" font-weight=\"100\" text-anchor=\"middle\" >100</text>\n",
       "  <text x=\"142.598126\" y=\"130.588235\" font-size=\"1.0rem\" font-weight=\"100\" text-anchor=\"middle\" transform=\"rotate(-90,142.598126,130.588235)\">500</text>\n",
       "  <text x=\"35.294118\" y=\"175.294118\" font-size=\"1.0rem\" font-weight=\"100\" text-anchor=\"middle\" transform=\"rotate(45,35.294118,175.294118)\">500</text>\n",
       "</svg>\n",
       "</td>\n",
       "</tr>\n",
       "</table>"
      ],
      "text/plain": [
       "dask.array<array, shape=(500, 500, 100), dtype=float64, chunksize=(50, 50, 10), chunktype=numpy.ndarray>"
      ]
     },
     "execution_count": 27,
     "metadata": {},
     "output_type": "execute_result"
    }
   ],
   "source": [
    "Number_angle_steps = 500\n",
    "Number_angle2_steps = 500\n",
    "thicknes_steps = 100\n",
    "\n",
    "incidence_angle = np.linspace(-1.14E-3,1.13E-3,Number_angle_steps)\n",
    "mer = np.linspace(-6.3E-3,6.3E-3,Number_angle2_steps)\n",
    "d = np.linspace(0.0,0.02,thicknes_steps)\n",
    "incidence_angle_meshgrid,mer_meshgrid,d_meshgrid = np.meshgrid(incidence_angle,mer,d)\n",
    "\n",
    "\n",
    "incidence_ = da.from_array(incidence_angle_meshgrid, chunks = (50,50,10))\n",
    "mer_ = da.from_array(mer_meshgrid, chunks = (50,50,10))\n",
    "d_ = da.from_array(d_meshgrid, chunks = (50,50,10))\n",
    "\n",
    "d_"
   ]
  },
  {
   "cell_type": "code",
   "execution_count": 28,
   "metadata": {
    "ExecuteTime": {
     "end_time": "2021-12-20T20:18:31.232066Z",
     "start_time": "2021-12-20T20:17:53.728873Z"
    }
   },
   "outputs": [],
   "source": [
    "result_dask = Projection_Deby_all_angle_numpy(incidence_,mer_,d_).compute()\n"
   ]
  },
  {
   "cell_type": "code",
   "execution_count": 33,
   "metadata": {
    "ExecuteTime": {
     "end_time": "2021-12-20T20:19:26.740272Z",
     "start_time": "2021-12-20T20:19:25.583790Z"
    }
   },
   "outputs": [],
   "source": [
    "client.close()"
   ]
  },
  {
   "cell_type": "code",
   "execution_count": 34,
   "metadata": {
    "ExecuteTime": {
     "end_time": "2021-12-20T20:19:27.740755Z",
     "start_time": "2021-12-20T20:19:27.613917Z"
    }
   },
   "outputs": [
    {
     "data": {
      "text/html": [
       "<table style=\"border: 2px solid white;\">\n",
       "<tr>\n",
       "<td style=\"vertical-align: top; border: 0px solid white\">\n",
       "<h3 style=\"text-align: left;\">Client</h3>\n",
       "<ul style=\"text-align: left; list-style: none; margin: 0; padding: 0;\">\n",
       "  <li><b>Scheduler: </b>inproc://141.23.178.129/18048/93</li>\n",
       "  <li><b>Dashboard: </b><a href='http://141.23.178.129:57218/status' target='_blank'>http://141.23.178.129:57218/status</a>\n",
       "</ul>\n",
       "</td>\n",
       "<td style=\"vertical-align: top; border: 0px solid white\">\n",
       "<h3 style=\"text-align: left;\">Cluster</h3>\n",
       "<ul style=\"text-align: left; list-style:none; margin: 0; padding: 0;\">\n",
       "  <li><b>Workers: </b>4</li>\n",
       "  <li><b>Cores: </b>4</li>\n",
       "  <li><b>Memory: </b>12.00 GB</li>\n",
       "</ul>\n",
       "</td>\n",
       "</tr>\n",
       "</table>"
      ],
      "text/plain": [
       "<Client: 'inproc://141.23.178.129/18048/93' processes=4 threads=4, memory=12.00 GB>"
      ]
     },
     "execution_count": 34,
     "metadata": {},
     "output_type": "execute_result"
    }
   ],
   "source": [
    "client = Client(threads_per_worker=1, processes=False, \n",
    "                n_workers=4, memory_limit='3GB')\n",
    "client"
   ]
  },
  {
   "cell_type": "code",
   "execution_count": 35,
   "metadata": {
    "ExecuteTime": {
     "end_time": "2021-12-20T20:20:12.437606Z",
     "start_time": "2021-12-20T20:19:30.739707Z"
    }
   },
   "outputs": [],
   "source": [
    "result_dask = Projection_Deby_all_angle_numpy(incidence_,mer_,d_).compute()"
   ]
  },
  {
   "cell_type": "code",
   "execution_count": null,
   "metadata": {},
   "outputs": [],
   "source": []
  },
  {
   "cell_type": "markdown",
   "metadata": {},
   "source": [
    "### Repeat the exercise from the lecture script section 4.4 comparing the speed of numpy with dask array using 1 processor (no parallelization), 2,4,8 and 16 processors (should you have as much) and plot the speeds vs the number of processors used. (This is called a strong scaling test)"
   ]
  },
  {
   "cell_type": "markdown",
   "metadata": {},
   "source": [
    "## GIT (again)"
   ]
  },
  {
   "cell_type": "markdown",
   "metadata": {},
   "source": [
    "### Check your git history (either on Github or with git log) for the exercises. What do you notice?\n",
    "\n",
    "Some pushed are from verified, others are not?!"
   ]
  }
 ],
 "metadata": {
  "kernelspec": {
   "display_name": "Python 3",
   "language": "python",
   "name": "python3"
  },
  "language_info": {
   "codemirror_mode": {
    "name": "ipython",
    "version": 3
   },
   "file_extension": ".py",
   "mimetype": "text/x-python",
   "name": "python",
   "nbconvert_exporter": "python",
   "pygments_lexer": "ipython3",
   "version": "3.7.6"
  },
  "toc": {
   "base_numbering": 1,
   "nav_menu": {},
   "number_sections": true,
   "sideBar": true,
   "skip_h1_title": true,
   "title_cell": "Table of Contents",
   "title_sidebar": "Contents",
   "toc_cell": false,
   "toc_position": {
    "height": "calc(100% - 180px)",
    "left": "10px",
    "top": "150px",
    "width": "304.6px"
   },
   "toc_section_display": true,
   "toc_window_display": true
  },
  "varInspector": {
   "cols": {
    "lenName": 16,
    "lenType": 16,
    "lenVar": 40
   },
   "kernels_config": {
    "python": {
     "delete_cmd_postfix": "",
     "delete_cmd_prefix": "del ",
     "library": "var_list.py",
     "varRefreshCmd": "print(var_dic_list())"
    },
    "r": {
     "delete_cmd_postfix": ") ",
     "delete_cmd_prefix": "rm(",
     "library": "var_list.r",
     "varRefreshCmd": "cat(var_dic_list()) "
    }
   },
   "types_to_exclude": [
    "module",
    "function",
    "builtin_function_or_method",
    "instance",
    "_Feature"
   ],
   "window_display": false
  }
 },
 "nbformat": 4,
 "nbformat_minor": 2
}
